{
 "cells": [
  {
   "cell_type": "code",
   "execution_count": null,
   "id": "823264a4",
   "metadata": {},
   "outputs": [],
   "source": []
  },
  {
   "cell_type": "code",
   "execution_count": 1,
   "id": "a39f7d7d",
   "metadata": {},
   "outputs": [
    {
     "ename": "SyntaxError",
     "evalue": "invalid syntax (3603664930.py, line 34)",
     "output_type": "error",
     "traceback": [
      "  \u001b[36mCell\u001b[39m\u001b[36m \u001b[39m\u001b[32mIn[1]\u001b[39m\u001b[32m, line 34\u001b[39m\n\u001b[31m    \u001b[39m\u001b[31mname = Employee(input(\"Enter your name: \")).\u001b[39m\n                                                ^\n\u001b[31mSyntaxError\u001b[39m\u001b[31m:\u001b[39m invalid syntax\n"
     ]
    }
   ],
   "source": [
    "import random\n",
    "\n",
    "class Employee:\n",
    "    def __init__(self,name):\n",
    "        self.name = name\n",
    "        self.employees = [\n",
    "            \"Mary Evans\", \"Eyo Ishan\", \"Durojaiye Dare\", \"Adams Ali\", \"Andrew Ugwu\",\n",
    "            \"Stella Mankinde\", \"Jane Akibo\", \"Ago James\", \"Michell Taiwo\", \"Abraham Jones\",\n",
    "            \"Nicole Anide\", \"Kosi Korso\", \"Adele Martins\", \"Emmanuel Ojo\", \"Ajayi Fatima\"\n",
    "        ]\n",
    "        self.tasks = [\"Loading\", \"Transporting\", \"Reviewing Orders\", \"Customer Service\", \"Delivering Items\"]\n",
    "        self.attendance = []\n",
    "\n",
    "    def check_employee(self):\n",
    "        return self.name in self.employees\n",
    "\n",
    "    def take_attendance(self):\n",
    "        if self.name not in self.attendance:\n",
    "            self.attendance.append(self.name)\n",
    "            return f\"Attendance taken for {self.name}.\"\n",
    "        else:\n",
    "            return f\"Attendance already taken for {self.name}.\"\n",
    "\n",
    "    def assign_task(self):\n",
    "        if self.check_employee():\n",
    "            return random.choice(self.tasks)\n",
    "        else: \n",
    "            return self.refuse_access()\n",
    "\n",
    "    def refuse_access(self):\n",
    "        return \"Access Denied. You are not an employee.\"\n",
    "    \n",
    "\n",
    "name = Employee(input(\"Enter your name: \")).\n",
    "if name.check_employee():\n",
    "    print(f\"Welcome, {name}!\")\n",
    "    print(name.take_attendance())\n",
    "    print(f\"Your assigned task is: {name.assign_task()}\")\n",
    "else: print(name.refuse_access())"
   ]
  }
 ],
 "metadata": {
  "kernelspec": {
   "display_name": "Python 3",
   "language": "python",
   "name": "python3"
  },
  "language_info": {
   "codemirror_mode": {
    "name": "ipython",
    "version": 3
   },
   "file_extension": ".py",
   "mimetype": "text/x-python",
   "name": "python",
   "nbconvert_exporter": "python",
   "pygments_lexer": "ipython3",
   "version": "3.13.2"
  }
 },
 "nbformat": 4,
 "nbformat_minor": 5
}
